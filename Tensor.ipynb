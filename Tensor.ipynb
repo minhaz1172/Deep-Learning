{
  "nbformat": 4,
  "nbformat_minor": 0,
  "metadata": {
    "colab": {
      "provenance": [],
      "authorship_tag": "ABX9TyNyigdGHpgAP30fMHtUAG8Y",
      "include_colab_link": true
    },
    "kernelspec": {
      "name": "python3",
      "display_name": "Python 3"
    },
    "language_info": {
      "name": "python"
    }
  },
  "cells": [
    {
      "cell_type": "markdown",
      "metadata": {
        "id": "view-in-github",
        "colab_type": "text"
      },
      "source": [
        "<a href=\"https://colab.research.google.com/github/minhaz1172/Deep-Learning/blob/main/Tensor.ipynb\" target=\"_parent\"><img src=\"https://colab.research.google.com/assets/colab-badge.svg\" alt=\"Open In Colab\"/></a>"
      ]
    },
    {
      "cell_type": "code",
      "execution_count": 9,
      "metadata": {
        "colab": {
          "base_uri": "https://localhost:8080/"
        },
        "id": "anHeHvqLYJuE",
        "outputId": "76bbd06d-1ca0-415f-c749-d77c78d35b3e"
      },
      "outputs": [
        {
          "output_type": "stream",
          "name": "stdout",
          "text": [
            "0D tensor: tf.Tensor(42, shape=(), dtype=int32)\n",
            "1D tensor: tf.Tensor([1 2 3], shape=(3,), dtype=int32)\n",
            "2D tensor: tf.Tensor(\n",
            "[[1 3 5 7]\n",
            " [2 5 9 8]], shape=(2, 4), dtype=int32)\n",
            "3D tensor: tf.Tensor(\n",
            "[[[1 2]\n",
            "  [3 5]]\n",
            "\n",
            " [[4 5]\n",
            "  [6 7]]], shape=(2, 2, 2), dtype=int32)\n",
            "Zeros tensor: tf.Tensor(\n",
            "[[0. 0.]\n",
            " [0. 0.]], shape=(2, 2), dtype=float32)\n",
            "Ones tensor: tf.Tensor(\n",
            "[[1. 1. 1.]\n",
            " [1. 1. 1.]\n",
            " [1. 1. 1.]], shape=(3, 3), dtype=float32)\n"
          ]
        }
      ],
      "source": [
        "#we can create  ensors using TensorFlow’s tf.Tensor() or its various helper functions, such as tf.constant(), tf.Variable(), or tf.zeros():\n",
        "import tensorflow as tf\n",
        "\n",
        "# Create a 0D tensor\n",
        "scalar_tensor = tf.constant(42)\n",
        "print(\"0D tensor:\",scalar_tensor)\n",
        "\n",
        "#vector(1D tensor)\n",
        "vector_tensor=tf.constant([1, 2, 3])\n",
        "print(\"1D tensor:\",vector_tensor)\n",
        "#matrix(2d tensor)\n",
        "matrix=tf.constant([[1,3,5,7],[2,5,9,8]])\n",
        "print(\"2D tensor:\",matrix)\n",
        "\n",
        "#3d tensor\n",
        "tensor_3d=tf.constant([[[1,2],[3,5]],[[4,5],[6,7]]])\n",
        "print(\"3D tensor:\",tensor_3d)\n",
        "\n",
        "#zeros tensor\n",
        "zeros=tf.zeros([2,2])# 2 by 2 matrix of zeros\n",
        "print(\"Zeros tensor:\",zeros)\n",
        "#tensors of ones\n",
        "ones=tf.ones([3,3])# 3 by 3 matrix of ones\n",
        "print(\"Ones tensor:\",ones)\n"
      ]
    },
    {
      "cell_type": "markdown",
      "source": [
        "# Operations IN Tensor"
      ],
      "metadata": {
        "id": "yVJpQ_dKB4Qq"
      }
    },
    {
      "cell_type": "code",
      "source": [
        "#element wise addition\n",
        "a=tf.constant([1,2,3])\n",
        "b=tf.constant([4,5,6])\n",
        "c=tf.add(a,b)\n",
        "print(\"Addition:\",c)\n",
        "\n",
        "# matrix multiplicaton\n",
        "g=tf.reshape(b,[3,1])\n",
        "# Reshape 'a' to be a 2D tensor with shape (1, 3)\n",
        "a = tf.reshape(a, [1, 3])  # Now 'a' is a compatible matrix\n",
        "d=tf.matmul(a,g)\n",
        "print(\"Multiplication:\",d)\n",
        "\n",
        "#transopse\n",
        "f=tf.transpose(d)\n",
        "print(\"Transposed tensor:\",f)\n"
      ],
      "metadata": {
        "colab": {
          "base_uri": "https://localhost:8080/"
        },
        "id": "Wd5wT8PYB_dP",
        "outputId": "05907166-ebe2-459e-de9d-e7a306f19ad0"
      },
      "execution_count": 14,
      "outputs": [
        {
          "output_type": "stream",
          "name": "stdout",
          "text": [
            "Addition: tf.Tensor([5 7 9], shape=(3,), dtype=int32)\n",
            "Multiplication: tf.Tensor([[32]], shape=(1, 1), dtype=int32)\n",
            "Transposed tensor: tf.Tensor([[32]], shape=(1, 1), dtype=int32)\n"
          ]
        }
      ]
    }
  ]
}