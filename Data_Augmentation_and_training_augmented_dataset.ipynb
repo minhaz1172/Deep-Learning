{
  "nbformat": 4,
  "nbformat_minor": 0,
  "metadata": {
    "colab": {
      "provenance": [],
      "authorship_tag": "ABX9TyNeDOpHb+UpSnIY5d5XBQGt",
      "include_colab_link": true
    },
    "kernelspec": {
      "name": "python3",
      "display_name": "Python 3"
    },
    "language_info": {
      "name": "python"
    }
  },
  "cells": [
    {
      "cell_type": "markdown",
      "metadata": {
        "id": "view-in-github",
        "colab_type": "text"
      },
      "source": [
        "<a href=\"https://colab.research.google.com/github/minhaz1172/Deep-Learning/blob/main/Data_Augmentation_and_training_augmented_dataset.ipynb\" target=\"_parent\"><img src=\"https://colab.research.google.com/assets/colab-badge.svg\" alt=\"Open In Colab\"/></a>"
      ]
    },
    {
      "cell_type": "markdown",
      "source": [
        "# We wiil use CIFAR-10 dataset (a popular image dataset for classification) to demonstrate data augmentation. We create a simple convolutional neural network (CNN) to classify the images, using augmented data during training"
      ],
      "metadata": {
        "id": "ZHG6T_VaeraH"
      }
    },
    {
      "cell_type": "markdown",
      "source": [
        "# **import necessary Libraries**"
      ],
      "metadata": {
        "id": "2Fn45veUe4I8"
      }
    },
    {
      "cell_type": "code",
      "source": [
        "import tensorflow as tf\n",
        "from tensorflow.keras.datasets import cifar10\n",
        "from tensorflow.keras.layers import Conv2D,MaxPooling2D,Flatten,Dense,Dropout\n",
        "from tensorflow.keras.preprocessing.image import ImageDataGenerator\n",
        "from tensorflow.keras.utils import to_categorical\n",
        "from tensorflow.keras.models import Sequential\n",
        "import numpy as np\n",
        "import matplotlib.pyplot as plt\n"
      ],
      "metadata": {
        "id": "Ffz2OOS1eqT2"
      },
      "execution_count": 1,
      "outputs": []
    },
    {
      "cell_type": "markdown",
      "source": [
        "# **lOAD tHE DATASET cifar-10**"
      ],
      "metadata": {
        "id": "CdM3HHlSgGnw"
      }
    },
    {
      "cell_type": "code",
      "execution_count": 2,
      "metadata": {
        "colab": {
          "base_uri": "https://localhost:8080/"
        },
        "id": "L7QIeB6Fc0r_",
        "outputId": "b70080f0-e4fb-4323-9334-9d4605cfe369"
      },
      "outputs": [
        {
          "output_type": "stream",
          "name": "stdout",
          "text": [
            "Downloading data from https://www.cs.toronto.edu/~kriz/cifar-10-python.tar.gz\n",
            "\u001b[1m170498071/170498071\u001b[0m \u001b[32m━━━━━━━━━━━━━━━━━━━━\u001b[0m\u001b[37m\u001b[0m \u001b[1m2s\u001b[0m 0us/step\n"
          ]
        }
      ],
      "source": [
        "(X_train,y_train),(X_test,y_test)=cifar10.load_data()"
      ]
    },
    {
      "cell_type": "markdown",
      "source": [
        "# **Image normalization**"
      ],
      "metadata": {
        "id": "l4u5Wc8Lg6Py"
      }
    },
    {
      "cell_type": "code",
      "source": [
        "X_train=X_train.astype('float32')/255.0\n",
        "X_test=X_test.astype('float32')/255.0"
      ],
      "metadata": {
        "id": "vxT_OI0CepNT"
      },
      "execution_count": 3,
      "outputs": []
    },
    {
      "cell_type": "markdown",
      "source": [
        "# Convert the class labels  to one hot encoded vectors for multiclass classification"
      ],
      "metadata": {
        "id": "S2makn62ieY1"
      }
    },
    {
      "cell_type": "code",
      "source": [
        "y_train_cat=to_categorical(y_train,10) ## 10 classes in CIFAR-10\n",
        "y_test_cat=to_categorical(y_test,10)\n"
      ],
      "metadata": {
        "id": "eIZsxUMxiqYc"
      },
      "execution_count": 4,
      "outputs": []
    },
    {
      "cell_type": "markdown",
      "source": [
        "# Visualize sample image from the training data"
      ],
      "metadata": {
        "id": "493UgHy7RLhA"
      }
    },
    {
      "cell_type": "code",
      "source": [
        "plt.imshow(X_train[0])\n",
        "plt.title(f\"Sample image-class Lbel:{y_train[0][0]}\")\n",
        "plt.axis('off')# Hide the axis to focus on the image\n",
        "plt.show()"
      ],
      "metadata": {
        "colab": {
          "base_uri": "https://localhost:8080/",
          "height": 428
        },
        "id": "oY9gTpsRRRV1",
        "outputId": "5dab404e-e957-4476-b978-9e63530eb858"
      },
      "execution_count": 8,
      "outputs": [
        {
          "output_type": "display_data",
          "data": {
            "text/plain": [
              "<Figure size 640x480 with 1 Axes>"
            ],
            "image/png": "[encoded data removed]"
          },
          "metadata": {}
        }
      ]
    },
    {
      "cell_type": "markdown",
      "source": [
        "#"
      ],
      "metadata": {
        "id": "GV4rcUZxhnXI"
      }
    },
    {
      "cell_type": "markdown",
      "source": [],
      "metadata": {
        "id": "-t4koDeaepmj"
      }
    },
    {
      "cell_type": "markdown",
      "source": [],
      "metadata": {
        "id": "gDppRp6_hHWs"
      }
    }
  ]
}