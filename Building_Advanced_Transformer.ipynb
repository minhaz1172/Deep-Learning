{
  "nbformat": 4,
  "nbformat_minor": 0,
  "metadata": {
    "colab": {
      "provenance": [],
      "authorship_tag": "ABX9TyMGVfK9J0nVLVAUrKVmdX87",
      "include_colab_link": true
    },
    "kernelspec": {
      "name": "python3",
      "display_name": "Python 3"
    },
    "language_info": {
      "name": "python"
    }
  },
  "cells": [
    {
      "cell_type": "markdown",
      "metadata": {
        "id": "view-in-github",
        "colab_type": "text"
      },
      "source": [
        "<a href=\"https://colab.research.google.com/github/minhaz1172/Deep-Learning/blob/main/Building_Advanced_Transformer.ipynb\" target=\"_parent\"><img src=\"https://colab.research.google.com/assets/colab-badge.svg\" alt=\"Open In Colab\"/></a>"
      ]
    },
    {
      "cell_type": "markdown",
      "source": [
        "**implement and experiment with advanced Transformer models using Keras.**"
      ],
      "metadata": {
        "id": "fqVO6haVtbSh"
      }
    },
    {
      "cell_type": "markdown",
      "source": [
        "# Import Necessary Liabraries"
      ],
      "metadata": {
        "id": "aYSaHYvGvQgS"
      }
    },
    {
      "cell_type": "code",
      "execution_count": 2,
      "metadata": {
        "id": "vVqx2Mp8s8BF"
      },
      "outputs": [],
      "source": [
        "import numpy as np\n",
        "import pandas as pd\n",
        "import tensorflow as tf # Deep learning framework for building and training neural network models.\n",
        "import requests    # For making HTTP requests (might be used later to fetch online data).\n",
        "from sklearn.preprocessing import MinMaxScaler # Utility for scaling data to the range [0, 1].\n",
        "from tensorflow.keras.layers import Layer,Dense,LayerNormalization,Dropout\n",
        "# These Keras layers are used to build custom neural network components (like in a Transformer)."
      ]
    },
    {
      "cell_type": "markdown",
      "source": [
        "#  setup the environment to generate random synthetic stock price data data to use as dataset"
      ],
      "metadata": {
        "id": "ydkVUtUMtaVo"
      }
    },
    {
      "cell_type": "code",
      "source": [
        "np.random.seed(42) # NumPy's random number generator.\n",
        "# To ensure reproducibility—every time you run the code, the same random numbers will be generated, so the results are consistent.\n",
        "data_length=2000 # Defines the number of data points.2000 means you're simulating stock prices for 2000 time steps.\n",
        "\n",
        "trend=np.linspace(100,200,data_length) # np.linspace(start, end, num) returns num equally spaced values from start to end. So, this line generates 2000 points starting at 100 and ending at 200, forming a straight upward trend.\n",
        " # np.random.normal(mean, std, size) generates random values from a normal (Gaussian) distribution.\n",
        "\n",
        "# mean=0: Noise is centered around zero, so it doesn’t add a bias.\n",
        "\n",
        "# std=2: Standard deviation of 2 adds moderate variation.\n",
        "\n",
        "# size=data_length: Generates 2000 noise values, one for each dat\n",
        "noise=np.random.normal(0,2,data_length)\n",
        "\n",
        "syntheic_data=trend+noise\n",
        "#Combines the trend with random noise to simulate a more realistic stock price behavior.\n",
        "# Result: A dataset (synthetic_data) that looks like a stock price gradually rising over time, but with small random ups and downs (just like real market data)."
      ],
      "metadata": {
        "id": "yhhT-WY7woj5"
      },
      "execution_count": 4,
      "outputs": []
    },
    {
      "cell_type": "markdown",
      "source": [
        "# create a dataframe and save as stock_pricees.csv"
      ],
      "metadata": {
        "id": "TDf4Zegh0teo"
      }
    },
    {
      "cell_type": "code",
      "source": [
        "data=pd.DataFrame(syntheic_data,columns=['Close']) #: Names the single column as \"Close\"\n",
        "data.to_csv('stock_prices.csv',index=False) # index=False: Ensures the DataFrame index (row numbers) is not included as a separate column in the CSV file.\n",
        "print(\"Synthetic stock_prices.csv created and loaded\")"
      ],
      "metadata": {
        "colab": {
          "base_uri": "https://localhost:8080/"
        },
        "id": "5Kx4OAzP012F",
        "outputId": "05a0ffb3-6e47-4484-b4c4-e64c2db3d384"
      },
      "execution_count": 5,
      "outputs": [
        {
          "output_type": "stream",
          "name": "stdout",
          "text": [
            "Synthetic stock_prices.csv created and loaded\n"
          ]
        }
      ]
    },
    {
      "cell_type": "markdown",
      "source": [
        "# Load the dataset"
      ],
      "metadata": {
        "id": "ClynZECj1hBG"
      }
    },
    {
      "cell_type": "code",
      "source": [
        "data=pd.read_csv('stock_prices.csv')\n",
        "data=data[['Close']].values # Select only the 'Close' column and convert it to a NumPy array for easier numerical processing."
      ],
      "metadata": {
        "id": "7Gq820H41mZT"
      },
      "execution_count": 8,
      "outputs": []
    }
  ]
}