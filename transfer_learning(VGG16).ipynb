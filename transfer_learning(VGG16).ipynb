{
  "nbformat": 4,
  "nbformat_minor": 0,
  "metadata": {
    "colab": {
      "provenance": [],
      "authorship_tag": "ABX9TyNW/PEEKPJ6CMr3iXrxqvrs",
      "include_colab_link": true
    },
    "kernelspec": {
      "name": "python3",
      "display_name": "Python 3"
    },
    "language_info": {
      "name": "python"
    }
  },
  "cells": [
    {
      "cell_type": "markdown",
      "metadata": {
        "id": "view-in-github",
        "colab_type": "text"
      },
      "source": [
        "<a href=\"https://colab.research.google.com/github/minhaz1172/Deep-Learning/blob/main/transfer_learning(VGG16).ipynb\" target=\"_parent\"><img src=\"https://colab.research.google.com/assets/colab-badge.svg\" alt=\"Open In Colab\"/></a>"
      ]
    },
    {
      "cell_type": "markdown",
      "source": [
        "**Import dataset from kaggle**"
      ],
      "metadata": {
        "id": "pf_haF1ckWs0"
      }
    },
    {
      "cell_type": "markdown",
      "source": [
        "# upload kaggle.json api in colab"
      ],
      "metadata": {
        "id": "oDX8ZMl4kdAa"
      }
    },
    {
      "cell_type": "code",
      "execution_count": 1,
      "metadata": {
        "colab": {
          "base_uri": "https://localhost:8080/",
          "height": 90
        },
        "id": "o-q1_KsFfQy-",
        "outputId": "8e3d1f74-8555-4737-ecae-73ee1f9d7d66"
      },
      "outputs": [
        {
          "output_type": "display_data",
          "data": {
            "text/plain": [
              "<IPython.core.display.HTML object>"
            ],
            "text/html": [
              "\n",
              "     <input type=\"file\" id=\"files-77f5fc51-6a54-4376-ae89-b154e9e0e673\" name=\"files[]\" multiple disabled\n",
              "        style=\"border:none\" />\n",
              "     <output id=\"result-77f5fc51-6a54-4376-ae89-b154e9e0e673\">\n",
              "      Upload widget is only available when the cell has been executed in the\n",
              "      current browser session. Please rerun this cell to enable.\n",
              "      </output>\n",
              "      <script>// Copyright 2017 Google LLC\n",
              "//\n",
              "// Licensed under the Apache License, Version 2.0 (the \"License\");\n",
              "// you may not use this file except in compliance with the License.\n",
              "// You may obtain a copy of the License at\n",
              "//\n",
              "//      http://www.apache.org/licenses/LICENSE-2.0\n",
              "//\n",
              "// Unless required by applicable law or agreed to in writing, software\n",
              "// distributed under the License is distributed on an \"AS IS\" BASIS,\n",
              "// WITHOUT WARRANTIES OR CONDITIONS OF ANY KIND, either express or implied.\n",
              "// See the License for the specific language governing permissions and\n",
              "// limitations under the License.\n",
              "\n",
              "/**\n",
              " * @fileoverview Helpers for google.colab Python module.\n",
              " */\n",
              "(function(scope) {\n",
              "function span(text, styleAttributes = {}) {\n",
              "  const element = document.createElement('span');\n",
              "  element.textContent = text;\n",
              "  for (const key of Object.keys(styleAttributes)) {\n",
              "    element.style[key] = styleAttributes[key];\n",
              "  }\n",
              "  return element;\n",
              "}\n",
              "\n",
              "// Max number of bytes which will be uploaded at a time.\n",
              "const MAX_PAYLOAD_SIZE = 100 * 1024;\n",
              "\n",
              "function _uploadFiles(inputId, outputId) {\n",
              "  const steps = uploadFilesStep(inputId, outputId);\n",
              "  const outputElement = document.getElementById(outputId);\n",
              "  // Cache steps on the outputElement to make it available for the next call\n",
              "  // to uploadFilesContinue from Python.\n",
              "  outputElement.steps = steps;\n",
              "\n",
              "  return _uploadFilesContinue(outputId);\n",
              "}\n",
              "\n",
              "// This is roughly an async generator (not supported in the browser yet),\n",
              "// where there are multiple asynchronous steps and the Python side is going\n",
              "// to poll for completion of each step.\n",
              "// This uses a Promise to block the python side on completion of each step,\n",
              "// then passes the result of the previous step as the input to the next step.\n",
              "function _uploadFilesContinue(outputId) {\n",
              "  const outputElement = document.getElementById(outputId);\n",
              "  const steps = outputElement.steps;\n",
              "\n",
              "  const next = steps.next(outputElement.lastPromiseValue);\n",
              "  return Promise.resolve(next.value.promise).then((value) => {\n",
              "    // Cache the last promise value to make it available to the next\n",
              "    // step of the generator.\n",
              "    outputElement.lastPromiseValue = value;\n",
              "    return next.value.response;\n",
              "  });\n",
              "}\n",
              "\n",
              "/**\n",
              " * Generator function which is called between each async step of the upload\n",
              " * process.\n",
              " * @param {string} inputId Element ID of the input file picker element.\n",
              " * @param {string} outputId Element ID of the output display.\n",
              " * @return {!Iterable<!Object>} Iterable of next steps.\n",
              " */\n",
              "function* uploadFilesStep(inputId, outputId) {\n",
              "  const inputElement = document.getElementById(inputId);\n",
              "  inputElement.disabled = false;\n",
              "\n",
              "  const outputElement = document.getElementById(outputId);\n",
              "  outputElement.innerHTML = '';\n",
              "\n",
              "  const pickedPromise = new Promise((resolve) => {\n",
              "    inputElement.addEventListener('change', (e) => {\n",
              "      resolve(e.target.files);\n",
              "    });\n",
              "  });\n",
              "\n",
              "  const cancel = document.createElement('button');\n",
              "  inputElement.parentElement.appendChild(cancel);\n",
              "  cancel.textContent = 'Cancel upload';\n",
              "  const cancelPromise = new Promise((resolve) => {\n",
              "    cancel.onclick = () => {\n",
              "      resolve(null);\n",
              "    };\n",
              "  });\n",
              "\n",
              "  // Wait for the user to pick the files.\n",
              "  const files = yield {\n",
              "    promise: Promise.race([pickedPromise, cancelPromise]),\n",
              "    response: {\n",
              "      action: 'starting',\n",
              "    }\n",
              "  };\n",
              "\n",
              "  cancel.remove();\n",
              "\n",
              "  // Disable the input element since further picks are not allowed.\n",
              "  inputElement.disabled = true;\n",
              "\n",
              "  if (!files) {\n",
              "    return {\n",
              "      response: {\n",
              "        action: 'complete',\n",
              "      }\n",
              "    };\n",
              "  }\n",
              "\n",
              "  for (const file of files) {\n",
              "    const li = document.createElement('li');\n",
              "    li.append(span(file.name, {fontWeight: 'bold'}));\n",
              "    li.append(span(\n",
              "        `(${file.type || 'n/a'}) - ${file.size} bytes, ` +\n",
              "        `last modified: ${\n",
              "            file.lastModifiedDate ? file.lastModifiedDate.toLocaleDateString() :\n",
              "                                    'n/a'} - `));\n",
              "    const percent = span('0% done');\n",
              "    li.appendChild(percent);\n",
              "\n",
              "    outputElement.appendChild(li);\n",
              "\n",
              "    const fileDataPromise = new Promise((resolve) => {\n",
              "      const reader = new FileReader();\n",
              "      reader.onload = (e) => {\n",
              "        resolve(e.target.result);\n",
              "      };\n",
              "      reader.readAsArrayBuffer(file);\n",
              "    });\n",
              "    // Wait for the data to be ready.\n",
              "    let fileData = yield {\n",
              "      promise: fileDataPromise,\n",
              "      response: {\n",
              "        action: 'continue',\n",
              "      }\n",
              "    };\n",
              "\n",
              "    // Use a chunked sending to avoid message size limits. See b/62115660.\n",
              "    let position = 0;\n",
              "    do {\n",
              "      const length = Math.min(fileData.byteLength - position, MAX_PAYLOAD_SIZE);\n",
              "      const chunk = new Uint8Array(fileData, position, length);\n",
              "      position += length;\n",
              "\n",
              "      const base64 = btoa(String.fromCharCode.apply(null, chunk));\n",
              "      yield {\n",
              "        response: {\n",
              "          action: 'append',\n",
              "          file: file.name,\n",
              "          data: base64,\n",
              "        },\n",
              "      };\n",
              "\n",
              "      let percentDone = fileData.byteLength === 0 ?\n",
              "          100 :\n",
              "          Math.round((position / fileData.byteLength) * 100);\n",
              "      percent.textContent = `${percentDone}% done`;\n",
              "\n",
              "    } while (position < fileData.byteLength);\n",
              "  }\n",
              "\n",
              "  // All done.\n",
              "  yield {\n",
              "    response: {\n",
              "      action: 'complete',\n",
              "    }\n",
              "  };\n",
              "}\n",
              "\n",
              "scope.google = scope.google || {};\n",
              "scope.google.colab = scope.google.colab || {};\n",
              "scope.google.colab._files = {\n",
              "  _uploadFiles,\n",
              "  _uploadFilesContinue,\n",
              "};\n",
              "})(self);\n",
              "</script> "
            ]
          },
          "metadata": {}
        },
        {
          "output_type": "stream",
          "name": "stdout",
          "text": [
            "Saving kaggle.json to kaggle.json\n"
          ]
        },
        {
          "output_type": "execute_result",
          "data": {
            "text/plain": [
              "{'kaggle.json': b'{\"username\":\"minhaz1172\",\"key\":\"ae7abd8510b81a9fa7badffec1b23486\"}'}"
            ]
          },
          "metadata": {},
          "execution_count": 1
        }
      ],
      "source": [
        "from google.colab import files\n",
        "files.upload()\n"
      ]
    },
    {
      "cell_type": "markdown",
      "source": [
        "# **Move and set permissson**"
      ],
      "metadata": {
        "id": "lg5tBqlugLs6"
      }
    },
    {
      "cell_type": "code",
      "source": [
        "import os\n",
        "import zipfile\n",
        "\n",
        "# Make directory and move kaggle.json\n",
        "!mkdir -p ~/.kaggle\n",
        "!mv kaggle.json ~/.kaggle/\n",
        "\n",
        "# Set proper permissions\n",
        "!chmod 600 ~/.kaggle/kaggle.json\n"
      ],
      "metadata": {
        "id": "GgkFzpcHgMVp"
      },
      "execution_count": 2,
      "outputs": []
    },
    {
      "cell_type": "markdown",
      "source": [
        "# **install kaggle package**"
      ],
      "metadata": {
        "id": "ODgxmd5Pks_N"
      }
    },
    {
      "cell_type": "code",
      "source": [
        "!pip install -q kaggle\n"
      ],
      "metadata": {
        "id": "uGHq5PSagXze"
      },
      "execution_count": 3,
      "outputs": []
    },
    {
      "cell_type": "markdown",
      "source": [
        "# **Find and download the dataset**"
      ],
      "metadata": {
        "id": "X8b24ktNkyr-"
      }
    },
    {
      "cell_type": "code",
      "source": [
        "\n",
        "!kaggle datasets download -d salader/dogs-vs-cats\n"
      ],
      "metadata": {
        "colab": {
          "base_uri": "https://localhost:8080/"
        },
        "id": "T8LwuXzggfwA",
        "outputId": "491e9c4b-4833-4ae4-bc5a-0f4b77cd933e"
      },
      "execution_count": 4,
      "outputs": [
        {
          "output_type": "stream",
          "name": "stdout",
          "text": [
            "Dataset URL: https://www.kaggle.com/datasets/salader/dogs-vs-cats\n",
            "License(s): unknown\n",
            "Downloading dogs-vs-cats.zip to /content\n",
            "100% 1.06G/1.06G [00:08<00:00, 262MB/s]\n",
            "100% 1.06G/1.06G [00:08<00:00, 130MB/s]\n"
          ]
        }
      ]
    },
    {
      "cell_type": "markdown",
      "source": [
        "# unzip the dataset"
      ],
      "metadata": {
        "id": "_MVznNPik4AU"
      }
    },
    {
      "cell_type": "code",
      "source": [
        "# Unzip the dataset (replace the file name if needed)\n",
        "!unzip -q dogs-vs-cats"
      ],
      "metadata": {
        "id": "kiN4nu-gg3aE"
      },
      "execution_count": 5,
      "outputs": []
    },
    {
      "cell_type": "markdown",
      "source": [
        "# import necessary Liabraries"
      ],
      "metadata": {
        "id": "tfleK1g9k6dW"
      }
    },
    {
      "cell_type": "code",
      "source": [
        "import tensorflow as tf\n",
        "from tensorflow.keras.applications import VGG16\n",
        "from tensorflow.keras.models import Sequential\n",
        "from tensorflow.keras.layers import Flatten,Dense,Dropout\n",
        "from tensorflow.keras.optimizers import Adam\n",
        "from tensorflow.keras.preprocessing.image import ImageDataGenerator\n",
        "import matplotlib.pyplot as plt\n",
        "import os"
      ],
      "metadata": {
        "id": "oHTOFObwhJf_"
      },
      "execution_count": 6,
      "outputs": []
    },
    {
      "cell_type": "markdown",
      "source": [
        "# **making a class of vgg16**\n",
        "#  Load the VGG16 model with pretrained ImageNet weights.\n",
        "# We exclude the top (classification) layers(output layers) since we'll be adding our own."
      ],
      "metadata": {
        "id": "ZH2JOTwxzTIt"
      }
    },
    {
      "cell_type": "code",
      "source": [
        "base_model=VGG16(weights='imagenet',include_top=False,input_shape=(224,224,3))"
      ],
      "metadata": {
        "id": "JYvPVD2ZzZDi",
        "colab": {
          "base_uri": "https://localhost:8080/"
        },
        "outputId": "e38ded25-fcfa-4f95-e69e-dd6b3d9b6a42"
      },
      "execution_count": 7,
      "outputs": [
        {
          "output_type": "stream",
          "name": "stdout",
          "text": [
            "Downloading data from https://storage.googleapis.com/tensorflow/keras-applications/vgg16/vgg16_weights_tf_dim_ordering_tf_kernels_notop.h5\n",
            "\u001b[1m58889256/58889256\u001b[0m \u001b[32m━━━━━━━━━━━━━━━━━━━━\u001b[0m\u001b[37m\u001b[0m \u001b[1m0s\u001b[0m 0us/step\n"
          ]
        }
      ]
    },
    {
      "cell_type": "markdown",
      "source": [
        "# Create a sequential mode and add layers"
      ],
      "metadata": {
        "id": "lXiFfmZz2vFH"
      }
    },
    {
      "cell_type": "code",
      "source": [
        "model=Sequential()\n",
        "model.add(base_model)\n",
        "model.add(Flatten())\n",
        "model.add(Dense(256,activation='relu')) # add a fully connected dense layer\n",
        "model.add(Dropout(0.5)) # add dropout for regularization to help prevent overfitting.\n",
        "model.add(Dense(1,activation='sigmoid')) # add a final output layer\n",
        "\n"
      ],
      "metadata": {
        "id": "ESNzVL9N2rDl"
      },
      "execution_count": 8,
      "outputs": []
    },
    {
      "cell_type": "markdown",
      "source": [
        "# **Freeze the base model so that its weights do not get updated during the initial training phase**"
      ],
      "metadata": {
        "id": "FmFesS6K12Bf"
      }
    },
    {
      "cell_type": "code",
      "source": [
        "base_model.trainable=False"
      ],
      "metadata": {
        "id": "VhuewwPd1iSn"
      },
      "execution_count": 9,
      "outputs": []
    },
    {
      "cell_type": "markdown",
      "source": [
        "# Define image dimension and batch size for our image generatio"
      ],
      "metadata": {
        "id": "6j2DaPE26awF"
      }
    },
    {
      "cell_type": "code",
      "source": [
        "img_height,img_width=224,224 ## VGG16 expects 224x224 images\n",
        "batch_size=32  # number of images per gradient update"
      ],
      "metadata": {
        "id": "UeZBw4M86ycj"
      },
      "execution_count": 10,
      "outputs": []
    },
    {
      "cell_type": "markdown",
      "source": [
        "# Create data generation with augmentation"
      ],
      "metadata": {
        "id": "Db4TU5hb7GXZ"
      }
    },
    {
      "cell_type": "code",
      "source": [
        "train_datagen=ImageDataGenerator(\n",
        "    rescale=1./255, ## Normalize pixel values to [0,1]\n",
        "    rotation_range=40,  # Randomly rotate images up to 40 degrees\n",
        "    width_shift_range=0.2, # Randomly shift images horizontally by 20%\n",
        "    height_shift_range=0.2, # Randomly shift images vertically by 20%\n",
        "    zoom_range=0.2, #  # Randomly zoom in on images\n",
        "     horizontal_flip=True, #  # Randomly flip images horizontally\n",
        "    fill_mode='nearest'  # Fill in missing pixels after transformations\n",
        "\n",
        ")\n"
      ],
      "metadata": {
        "id": "EHzLEUEG7J7w"
      },
      "execution_count": 16,
      "outputs": []
    },
    {
      "cell_type": "markdown",
      "source": [
        "# create an imageDatagenerator for validation without augmentation(without rescaling"
      ],
      "metadata": {
        "id": "F28cETUCWxRP"
      }
    },
    {
      "cell_type": "code",
      "source": [
        "val_datagen=ImageDataGenerator(rescale=1./255)"
      ],
      "metadata": {
        "id": "LhpiUfwz_92G"
      },
      "execution_count": 17,
      "outputs": []
    },
    {
      "cell_type": "markdown",
      "source": [
        "# **Define the directory paths for training and validation data in your Colab folder**"
      ],
      "metadata": {
        "id": "WYk7RrMdXiNY"
      }
    },
    {
      "cell_type": "code",
      "source": [
        "train_dir='/content/train'\n",
        "val_dir='/content/test'"
      ],
      "metadata": {
        "id": "oqn360HJXtjW"
      },
      "execution_count": 18,
      "outputs": []
    },
    {
      "cell_type": "markdown",
      "source": [
        "# **define the directory path for training and validation data which is in my colab folder**"
      ],
      "metadata": {
        "id": "BIkA8E2rXBif"
      }
    },
    {
      "cell_type": "markdown",
      "source": [
        "# Create a data generator that reads images from the training directory,\n",
        "# applies augmentation, and resizes them to the required dimensions."
      ],
      "metadata": {
        "id": "w5GokxKGXOWc"
      }
    },
    {
      "cell_type": "code",
      "source": [
        "train_generator=train_datagen.flow_from_directory(\n",
        "    train_dir, # directory with training images\n",
        "    target_size=(img_height,img_width), # resize image with 224 by 224\n",
        "    batch_size=batch_size, #number\n",
        "    class_mode='categorical'\n",
        ")\n"
      ],
      "metadata": {
        "colab": {
          "base_uri": "https://localhost:8080/"
        },
        "id": "NwmPkz5UXTPd",
        "outputId": "f6fbd038-5f78-4713-f82b-decfc55adffe"
      },
      "execution_count": 21,
      "outputs": [
        {
          "output_type": "stream",
          "name": "stdout",
          "text": [
            "Found 20000 images belonging to 2 classes.\n"
          ]
        }
      ]
    },
    {
      "cell_type": "markdown",
      "source": [
        "# create a data generator for validation data(no augmentation is applied)"
      ],
      "metadata": {
        "id": "CLoRVYNcZ13O"
      }
    },
    {
      "cell_type": "code",
      "source": [
        "validation_generator=val_datagen.flow_from_directory(\n",
        "    val_dir,\n",
        "    target_size=(img_height,img_width),\n",
        "    batch_size=batch_size,\n",
        "    class_mode='categorical'\n",
        ")"
      ],
      "metadata": {
        "colab": {
          "base_uri": "https://localhost:8080/"
        },
        "id": "hqSBCbHaaEb7",
        "outputId": "13e05914-a0be-4bb4-8b2d-169056931dc4"
      },
      "execution_count": 22,
      "outputs": [
        {
          "output_type": "stream",
          "name": "stdout",
          "text": [
            "Found 5000 images belonging to 2 classes.\n"
          ]
        }
      ]
    }
  ]
}