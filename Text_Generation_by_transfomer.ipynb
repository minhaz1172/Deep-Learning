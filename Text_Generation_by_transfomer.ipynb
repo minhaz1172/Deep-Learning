{
  "nbformat": 4,
  "nbformat_minor": 0,
  "metadata": {
    "colab": {
      "provenance": [],
      "authorship_tag": "ABX9TyNGd4onFqg+bbbaf85F2cuw",
      "include_colab_link": true
    },
    "kernelspec": {
      "name": "python3",
      "display_name": "Python 3"
    },
    "language_info": {
      "name": "python"
    }
  },
  "cells": [
    {
      "cell_type": "markdown",
      "metadata": {
        "id": "view-in-github",
        "colab_type": "text"
      },
      "source": [
        "<a href=\"https://colab.research.google.com/github/minhaz1172/Deep-Learning/blob/main/Text_Generation_by_transfomer.ipynb\" target=\"_parent\"><img src=\"https://colab.research.google.com/assets/colab-badge.svg\" alt=\"Open In Colab\"/></a>"
      ]
    },
    {
      "cell_type": "markdown",
      "source": [
        "# **Transformer for Text generation**\n",
        "\n",
        "#objectives:\n",
        "# Implement Transformers for text generation tasks\n",
        "\n",
        "# Build, train, and evaluate Transformer models for text generation using TensorFlow and Keras\n",
        "\n",
        "# Apply text generation in real-world scenarios"
      ],
      "metadata": {
        "id": "aTsKHk9zSjno"
      }
    },
    {
      "cell_type": "markdown",
      "source": [
        "# Import necessary libraries"
      ],
      "metadata": {
        "id": "QX15A_11TTWJ"
      }
    },
    {
      "cell_type": "code",
      "execution_count": 1,
      "metadata": {
        "id": "vaxnWLnYSdT0"
      },
      "outputs": [],
      "source": [
        "import tensorflow as tf\n",
        "import numpy as np\n",
        "import matplotlib.pyplot as plt\n",
        "from tensorflow.keras.utils import get_file\n"
      ]
    },
    {
      "cell_type": "markdown",
      "source": [
        "# Load the dataset"
      ],
      "metadata": {
        "id": "u2ETb9R2TnhZ"
      }
    },
    {
      "cell_type": "markdown",
      "source": [
        "# get_file downloads the file from the URL if it’s not present locally.\n",
        "\n",
        "# The text is read in binary mode (byte string) and then decoded into UTF-8 for proper text handling."
      ],
      "metadata": {
        "id": "DbDxRvWyvbnJ"
      }
    },
    {
      "cell_type": "code",
      "source": [
        "# load the dataset (shakespeare works) from a url.This utility downloads the file if needed.\n",
        "\n",
        "path_to_file=get_file('shakespeare.txt','https://storage.googleapis.com/download.tensorflow.org/data/shakespeare.txt')\n",
        "\n",
        " # read the raw text from the downlader file and decode it from bytes to a UTF-8 String\n",
        "text=open(path_to_file,'rb').read().decode(encoding='utf-8')\n",
        "\n",
        " # preview the first 1000 characters of the dataset\n",
        "print(text[:1000])"
      ],
      "metadata": {
        "colab": {
          "base_uri": "https://localhost:8080/"
        },
        "id": "cCaO8TfvTp6u",
        "outputId": "9592f899-7f85-46e9-c8af-9acfc16296e7"
      },
      "execution_count": 2,
      "outputs": [
        {
          "output_type": "stream",
          "name": "stdout",
          "text": [
            "Downloading data from https://storage.googleapis.com/download.tensorflow.org/data/shakespeare.txt\n",
            "\u001b[1m1115394/1115394\u001b[0m \u001b[32m━━━━━━━━━━━━━━━━━━━━\u001b[0m\u001b[37m\u001b[0m \u001b[1m0s\u001b[0m 0us/step\n",
            "First Citizen:\n",
            "Before we proceed any further, hear me speak.\n",
            "\n",
            "All:\n",
            "Speak, speak.\n",
            "\n",
            "First Citizen:\n",
            "You are all resolved rather to die than to famish?\n",
            "\n",
            "All:\n",
            "Resolved. resolved.\n",
            "\n",
            "First Citizen:\n",
            "First, you know Caius Marcius is chief enemy to the people.\n",
            "\n",
            "All:\n",
            "We know't, we know't.\n",
            "\n",
            "First Citizen:\n",
            "Let us kill him, and we'll have corn at our own price.\n",
            "Is't a verdict?\n",
            "\n",
            "All:\n",
            "No more talking on't; let it be done: away, away!\n",
            "\n",
            "Second Citizen:\n",
            "One word, good citizens.\n",
            "\n",
            "First Citizen:\n",
            "We are accounted poor citizens, the patricians good.\n",
            "What authority surfeits on would relieve us: if they\n",
            "would yield us but the superfluity, while it were\n",
            "wholesome, we might guess they relieved us humanely;\n",
            "but they think we are too dear: the leanness that\n",
            "afflicts us, the object of our misery, is as an\n",
            "inventory to particularise their abundance; our\n",
            "sufferance is a gain to them Let us revenge this with\n",
            "our pikes, ere we become rakes: for the gods know I\n",
            "speak this in hunger for bread, not in thirst for revenge.\n",
            "\n",
            "\n"
          ]
        }
      ]
    },
    {
      "cell_type": "code",
      "source": [
        "print(f\"length of text: {len(text)} characters\")"
      ],
      "metadata": {
        "colab": {
          "base_uri": "https://localhost:8080/"
        },
        "id": "p0RDhchP4mbv",
        "outputId": "043b5bae-6757-4e18-9c20-d2c3dda73a0b"
      },
      "execution_count": 6,
      "outputs": [
        {
          "output_type": "stream",
          "name": "stdout",
          "text": [
            "length of text: 1115394 characters\n"
          ]
        }
      ]
    },
    {
      "cell_type": "markdown",
      "source": [
        "# he TextVectorization layer is used to convert raw strings into sequences of integer tokens.\n",
        "# The .adapt() method analyzes the text to build the vocabulary.\n",
        "#vectorizer([text]) is wrapped in an extra dimension (batch dimension), so [0] extracts the main token sequence."
      ],
      "metadata": {
        "id": "k1GaDqV02urI"
      }
    },
    {
      "cell_type": "markdown",
      "source": [
        "# **data preprocessing and text vectorization**"
      ],
      "metadata": {
        "id": "b-RGdypIv1H-"
      }
    },
    {
      "cell_type": "code",
      "source": [
        "#  # Set parameters: a maximum vocabulary size and a sequence length.\n",
        "import tensorflow as tf\n",
        "from tensorflow.keras.layers import TextVectorization\n",
        "\n",
        "vocab_size=10000\n",
        "seq_lenth=100\n",
        "\n",
        "# create a textVectorization layer instance,set output indices\n",
        "vectorizer=TextVectorization(max_tokens=vocab_size,output_mode='int')\n",
        "\n",
        "# create a tensoflow dataset from the raw text and batch it (batch size 1 here) for adaptization\n",
        "text_ds=tf.data.Dataset.from_tensor_slices([text]).batch(1)\n",
        "# adapt the textvecotrization layer on the dataset.this bulds the vocabolary\n",
        "vectorizer.adapt(text_ds)\n",
        "# vectorize the entire text into a sequence of integer token IDs\n",
        "vectorized_text=vectorizer(text)\n",
        "print(f\"shape of vectorized text: {vectorized_text.shape}\")\n",
        "print(f\"first 10 tokens of vectorized text: {vectorized_text[:10]}\")"
      ],
      "metadata": {
        "colab": {
          "base_uri": "https://localhost:8080/"
        },
        "id": "Tjw2kNsJv9wg",
        "outputId": "c3e75d2c-377a-4634-9c24-11da2440c444"
      },
      "execution_count": 5,
      "outputs": [
        {
          "output_type": "stream",
          "name": "stdout",
          "text": [
            "shape of vectorized text: (202646,)\n",
            "first 10 tokens of vectorized text: [ 89 270 138  36 982 144 673 125  16 106]\n"
          ]
        }
      ]
    },
    {
      "cell_type": "markdown",
      "source": [
        "# : To prepare the data for sequence prediction, we slide a window of fixed size (seq_length) over the vectorized text.\n",
        "\n",
        "# Input Sequences (X): Each sequence of tokens used as model input.\n",
        "\n",
        "# target Sequences (Y): The next tokens (shifted by one position) that the model is expected to predict.\n",
        "\n",
        "# Finally, the data is converted to TF tensors so the training loop can process them efficiently."
      ],
      "metadata": {
        "id": "c_u4yLU751SB"
      }
    },
    {
      "cell_type": "code",
      "source": [
        "def create_sequences(text,seq_length):\n",
        "  input_seqs=[]\n",
        "  target_seqs=[]\n",
        "\n",
        "  for i in range(len(text)-seq_length):\n",
        "    input_seq=text[i:i+seq_length]\n",
        "    target_seq=text[i+1:i+seq_length+1]\n",
        "\n",
        "    input_seqs.append(input_seq)\n",
        "    target_seqs.append(target_seq)\n",
        "\n",
        "  return np.array(input_seqs),np.array(target_seqs)\n",
        "\n",
        "\n",
        "#Generate input X and Target Y sequences from the vectorized text\n",
        "\n",
        "X,Y=create_sequences(vectorized_text.numpy(),seq_lenth)\n",
        "\n",
        "#verify that sequences have generated successfully\n",
        "print(f\"number of sequences generated: {len(X)}\")\n",
        "print(f\"first input sequence: {X[0]}\")\n",
        "print(f\"first target sequence: {Y[0]}\")\n",
        "\n",
        "# Ensure X and Y are not empty ,then convert to tensorflow tensor for training\n",
        "X=tf.convert_to_tensor(X)\n",
        "Y=tf.convert_to_tensor(Y)\n",
        "print(f\"shape of X: {X.shape}\")\n",
        "print(f\"shape of Y: {Y.shape}\")"
      ],
      "metadata": {
        "colab": {
          "base_uri": "https://localhost:8080/"
        },
        "id": "7gkbCrlA3ftN",
        "outputId": "e400702c-bd61-45e9-f87a-0225a511d557"
      },
      "execution_count": 8,
      "outputs": [
        {
          "output_type": "stream",
          "name": "stdout",
          "text": [
            "number of sequences generated: 202546\n",
            "first input sequence: [  89  270  138   36  982  144  673  125   16  106   34  106  106   89\n",
            "  270    7   41   34 1286  344    4  200   64    4 3690   34 1286 1286\n",
            "   89  270   89    7   93 1187  225   12 2442  592    4    2  307   34\n",
            "   36 2655   36 2655   89  270   72   79  506   27    3   56   24 1390\n",
            "   57   40  161 2328  644    9 4980   34   32   54 2863  885   72   17\n",
            "   18  163  146  146  165  270   74  218   46  595   89  270   36   41\n",
            " 6739  172  595    2 1780   46   29 1323 5151   47   58 4151   79   39\n",
            "   60   58]\n",
            "first target sequence: [ 270  138   36  982  144  673  125   16  106   34  106  106   89  270\n",
            "    7   41   34 1286  344    4  200   64    4 3690   34 1286 1286   89\n",
            "  270   89    7   93 1187  225   12 2442  592    4    2  307   34   36\n",
            " 2655   36 2655   89  270   72   79  506   27    3   56   24 1390   57\n",
            "   40  161 2328  644    9 4980   34   32   54 2863  885   72   17   18\n",
            "  163  146  146  165  270   74  218   46  595   89  270   36   41 6739\n",
            "  172  595    2 1780   46   29 1323 5151   47   58 4151   79   39   60\n",
            "   58  573]\n",
            "shape of X: (202546, 100)\n",
            "shape of Y: (202546, 100)\n"
          ]
        }
      ]
    }
  ]
}