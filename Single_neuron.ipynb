{
  "nbformat": 4,
  "nbformat_minor": 0,
  "metadata": {
    "colab": {
      "provenance": [],
      "authorship_tag": "ABX9TyNNaoO0abnJJYkGsgT2Dvby"
    },
    "kernelspec": {
      "name": "python3",
      "display_name": "Python 3"
    },
    "language_info": {
      "name": "python"
    }
  },
  "cells": [
    {
      "cell_type": "markdown",
      "source": [
        "## example:\n",
        "let two input x1 & x2 where weight is w=[2,3],bias =0.5 find out put for this single neuron"
      ],
      "metadata": {
        "id": "GigSYZaEZtWi"
      }
    },
    {
      "cell_type": "code",
      "source": [
        "import math\n",
        "\n",
        "def sigmoid(x):\n",
        "    \"\"\"Compute the sigmoid function.\"\"\"\n",
        "    return 1 / (1 + math.exp(-x))"
      ],
      "metadata": {
        "id": "-fwAq9kKZ3xy"
      },
      "execution_count": 1,
      "outputs": []
    },
    {
      "cell_type": "code",
      "source": [
        "def forwardbias(wights,input,bias):\n",
        "\n",
        "    return sigmoid(sum(w*i for w,i in zip(wights,input)) + bias)\n",
        "#zip takes two lists and returns a list of tuples, each tuple containing one element from each list at the same index."
      ],
      "metadata": {
        "id": "IKACEbWYZ6qX"
      },
      "execution_count": 2,
      "outputs": []
    },
    {
      "cell_type": "code",
      "source": [
        "def classify(output,threshold=0.5):\n",
        "    \"\"\"Classify the output based on a threshold.\"\"\"\n",
        "    return 1 if output>= threshold else 0\n",
        "\n",
        ""
      ],
      "metadata": {
        "id": "xAHkpwkmZ-qN"
      },
      "execution_count": 3,
      "outputs": []
    },
    {
      "cell_type": "code",
      "source": [
        "weights=list(map(int,input(\"Enter weights: \").split()))\n",
        "inputs=list(map(int,input(\"Enter inputs: \").split()))\n",
        "bias=int(input(\"Enter bias: \"))\n",
        "output=forwardbias(weights,inputs,bias)\n",
        "print(f\"Output:{output}\")\n",
        "print(f\"Classfication:{classify(output)}\")"
      ],
      "metadata": {
        "colab": {
          "base_uri": "https://localhost:8080/"
        },
        "id": "oaEF9fCXcjtM",
        "outputId": "05ef2eef-af15-4ad1-e016-b08044332894"
      },
      "execution_count": 5,
      "outputs": [
        {
          "output_type": "stream",
          "name": "stdout",
          "text": [
            "Enter weights: 2 4 7\n",
            "Enter inputs: 5 7 9\n",
            "Enter bias: 1\n",
            "Output:1.0\n",
            "Classfication:1\n"
          ]
        }
      ]
    }
  ]
}